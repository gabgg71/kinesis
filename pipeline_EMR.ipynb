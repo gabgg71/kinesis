{
  "nbformat": 4,
  "nbformat_minor": 0,
  "metadata": {
    "colab": {
      "provenance": []
    },
    "kernelspec": {
      "name": "python3",
      "display_name": "Python 3"
    },
    "language_info": {
      "name": "python"
    }
  },
  "cells": [
    {
      "cell_type": "code",
      "execution_count": null,
      "metadata": {
        "id": "fayFEu6aW7eB"
      },
      "outputs": [],
      "source": [
        "from pyspark.sql import SparkSession\n",
        "from pyspark.ml.feature import RegexTokenizer, StopWordsRemover, CountVectorizer, IDF\n",
        "from pyspark.ml import Pipeline\n",
        "from pyspark.sql.functions import udf, concat_ws\n",
        "from pyspark.sql.types import StringType\n",
        "import datetime"
      ]
    },
    {
      "cell_type": "code",
      "source": [
        "spark = SparkSession.builder \\\n",
        "    .appName(\"NewsProcessingPipeline\") \\\n",
        "    .getOrCreate()"
      ],
      "metadata": {
        "id": "UvOdb2W8W8HH"
      },
      "execution_count": null,
      "outputs": []
    },
    {
      "cell_type": "code",
      "source": [
        "bucket = 'bucket-datos-periodico'\n",
        "key = f\"headlines/final/periodico=elTiempo/year={datetime.datetime.now().strftime('%Y')}/month={datetime.datetime.now().strftime('%m')}/elTiempo{datetime.datetime.now().strftime('%Y')}-{datetime.datetime.now().strftime('%m')}-{datetime.datetime.now().strftime('%d')}.csv\"\n",
        "file_path = f\"s3://{bucket}/{key}\"\n",
        "file_path"
      ],
      "metadata": {
        "id": "RxuzhJCVW9mr"
      },
      "execution_count": null,
      "outputs": []
    },
    {
      "cell_type": "code",
      "source": [
        "df = spark.read.csv(file_path, header=True, inferSchema=True)"
      ],
      "metadata": {
        "id": "Tix0K0xUW_ml"
      },
      "execution_count": null,
      "outputs": []
    },
    {
      "cell_type": "code",
      "source": [
        "#Define the stages of the pipeline.\n",
        "regex_tokenizer = RegexTokenizer(inputCol=\"titulo\", outputCol=\"words\", pattern=\"\\\\W\")\n",
        "stopwords_remover = StopWordsRemover(inputCol=\"words\", outputCol=\"filtered_words\")\n",
        "count_vectorizer = CountVectorizer(inputCol=\"filtered_words\", outputCol=\"raw_features\")\n",
        "idf = IDF(inputCol=\"raw_features\", outputCol=\"features\")"
      ],
      "metadata": {
        "id": "pONLMHojXBRs"
      },
      "execution_count": null,
      "outputs": []
    },
    {
      "cell_type": "code",
      "source": [
        "#Create pipeline\n",
        "pipeline = Pipeline(stages=[regex_tokenizer, stopwords_remover, count_vectorizer, idf])"
      ],
      "metadata": {
        "id": "gwj9eofZXC2C"
      },
      "execution_count": null,
      "outputs": []
    },
    {
      "cell_type": "code",
      "source": [
        "pipeline_model = pipeline.fit(df)\n",
        "processed_data = pipeline_model.transform(df)"
      ],
      "metadata": {
        "id": "y81HmdcdXGKC"
      },
      "execution_count": null,
      "outputs": []
    },
    {
      "cell_type": "code",
      "source": [
        "array_to_string_udf = udf(lambda arr: ' '.join(str(x) for x in arr), StringType())\n",
        "processed_data = processed_data.withColumn(\"features_str\", array_to_string_udf(processed_data[\"features\"]))"
      ],
      "metadata": {
        "id": "rdfoyUz8XGfl"
      },
      "execution_count": null,
      "outputs": []
    },
    {
      "cell_type": "code",
      "source": [
        "processed_data.show()"
      ],
      "metadata": {
        "id": "oUD3n3EjXIcK"
      },
      "execution_count": null,
      "outputs": []
    },
    {
      "cell_type": "code",
      "source": [
        "output_path = \"s3://bucket-datos-periodico/headlines/tokens\"\n",
        "processed_data.select(\"titulo\", \"categoria\", \"link\", \"features_str\").write.csv(output_path, header=True, mode=\"overwrite\")"
      ],
      "metadata": {
        "id": "SMZJwF5UXJ0U"
      },
      "execution_count": null,
      "outputs": []
    }
  ]
}